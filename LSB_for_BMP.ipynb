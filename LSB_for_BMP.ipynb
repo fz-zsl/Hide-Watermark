{
 "cells": [
  {
   "cell_type": "code",
   "execution_count": 6,
   "metadata": {
    "vscode": {
     "languageId": "shellscript"
    }
   },
   "outputs": [
    {
     "name": "stdout",
     "output_type": "stream",
     "text": [
      "Collecting numpy==1.25.2 (from -r requirements.txt (line 1))Note: you may need to restart the kernel to use updated packages.\n",
      "\n",
      "  Obtaining dependency information for numpy==1.25.2 from https://files.pythonhosted.org/packages/b7/db/4d37359e2c9cf8bf071c08b8a6f7374648a5ab2e76e2e22e3b808f81d507/numpy-1.25.2-cp310-cp310-win_amd64.whl.metadata\n",
      "  Using cached numpy-1.25.2-cp310-cp310-win_amd64.whl.metadata (5.7 kB)\n",
      "Collecting opencv-python==4.8.0.74 (from -r requirements.txt (line 2))\n",
      "  Obtaining dependency information for opencv-python==4.8.0.74 from https://files.pythonhosted.org/packages/a6/08/583e1d8d589e80a702815f58daa317bd469a32c7dc339394e2a0dc14318b/opencv_python-4.8.0.74-cp37-abi3-win_amd64.whl.metadata\n",
      "  Using cached opencv_python-4.8.0.74-cp37-abi3-win_amd64.whl.metadata (19 kB)\n",
      "Collecting Pillow==9.4.0 (from -r requirements.txt (line 3))\n",
      "  Using cached Pillow-9.4.0-cp310-cp310-win_amd64.whl (2.5 MB)\n",
      "Collecting unicode==2.9 (from -r requirements.txt (line 4))\n",
      "  Using cached unicode-2.9-py2.py3-none-any.whl (14 kB)\n",
      "Using cached numpy-1.25.2-cp310-cp310-win_amd64.whl (15.6 MB)\n",
      "Using cached opencv_python-4.8.0.74-cp37-abi3-win_amd64.whl (38.1 MB)\n",
      "Installing collected packages: unicode, Pillow, numpy, opencv-python\n",
      "Successfully installed Pillow-9.4.0 numpy-1.25.2 opencv-python-4.8.0.74 unicode-2.9\n"
     ]
    }
   ],
   "source": [
    "pip install -r requirements.txt"
   ]
  },
  {
   "cell_type": "code",
   "execution_count": 7,
   "metadata": {},
   "outputs": [],
   "source": [
    "from PIL import Image\n",
    "import random\n",
    "import math"
   ]
  },
  {
   "cell_type": "code",
   "execution_count": 8,
   "metadata": {},
   "outputs": [],
   "source": [
    "input_path = \"./input/P.jpg\"\n",
    "output_path = \"./output/SP_1.png\"\n",
    "message = \"testing_example\""
   ]
  },
  {
   "cell_type": "code",
   "execution_count": 9,
   "metadata": {},
   "outputs": [],
   "source": [
    "def hide_data(image_path, message):\n",
    "    binary_message = convert_text_to_binary(message)\n",
    "    image = Image.open(image_path)\n",
    "    width, height = image.size\n",
    "\n",
    "    if(len(binary_message)>width*height*3):\n",
    "        raise ValueError(\"Message is too long for the image!\")\n",
    "    \n",
    "    pixel_data = list(image.getdata())\n",
    "    new_pixel_data = []\n",
    "    index = 0\n",
    "\n",
    "    for pixel in pixel_data:\n",
    "        r, g, b = pixel\n",
    "\n",
    "        if(index < len(binary_message)):\n",
    "            new_r = r + (random.randint(0, 1) * 2 - 1) * (r % 2 - int(binary_message[index]))\n",
    "            if(new_r > 255):\n",
    "                new_r = 254\n",
    "            if(new_r < 0):\n",
    "                new_r = 1\n",
    "        else:\n",
    "            new_r = r\n",
    "\n",
    "        index += 1\n",
    "\n",
    "        if(index < len(binary_message)):\n",
    "            new_g = g + (random.randint(0, 1) * 2 - 1) * (g % 2 - int(binary_message[index]))\n",
    "            if(new_g > 255):\n",
    "                new_g = 254\n",
    "            if(new_g < 0):\n",
    "                new_g = 1\n",
    "        else:\n",
    "            new_g = g\n",
    "\n",
    "        index += 1\n",
    "\n",
    "        if(index < len(binary_message)):\n",
    "            new_b = b + (random.randint(0, 1) * 2 - 1) * (b % 2 - int(binary_message[index]))\n",
    "            if(new_b > 255):\n",
    "                new_b = 254\n",
    "            if(new_b < 0):\n",
    "                new_b = 1\n",
    "        else:\n",
    "            new_b = b\n",
    "\n",
    "        index += 1\n",
    "\n",
    "        new_pixel_data.append((new_r, new_g, new_b))\n",
    "\n",
    "    new_image = Image.new(image.mode, image.size)\n",
    "    new_image.putdata(new_pixel_data)\n",
    "    new_image.save(\"output_image.bmp\")\n",
    "\n",
    "\n",
    "        \n",
    "\n",
    "\n",
    "\n",
    "def convert_text_to_binary(message):\n",
    "    binary_text = ''.join(format(ord(char), '08b') for char in message)\n",
    "    length = str(len(message))\n",
    "    length_info = '0' * (9 - len(length)) + length\n",
    "    binary_length_info = ''.join(format(ord(char), '08b') for char in length_info)\n",
    "    return  binary_length_info + binary_text\n"
   ]
  },
  {
   "cell_type": "code",
   "execution_count": 10,
   "metadata": {},
   "outputs": [],
   "source": [
    "def extract_data(image_path):\n",
    "    image = Image.open(image_path)\n",
    "    pixel_data = list(image.getdata())\n",
    "\n",
    "    binary_message = ''\n",
    "    binary_length_info = ''\n",
    "\n",
    "    for i in range(24):\n",
    "        for j in range(3):\n",
    "            binary_length_info += str(pixel_data[i][j] % 2)\n",
    "\n",
    "    extracted_length_info = ''\n",
    "    for i in range(0, len(binary_length_info), 8):\n",
    "        byte = binary_length_info[i:i+8]\n",
    "        extracted_length_info += chr(int(byte, 2))\n",
    "    length = int(extracted_length_info)\n",
    "\n",
    "    for i in range(24, 24 + math.ceil(length*8/3)):\n",
    "        for j in range(3):\n",
    "            if((i - 24) * 3 + j < length*8):\n",
    "                binary_message += str(pixel_data[i][j] % 2)\n",
    "    \n",
    "    extracted_data = ''\n",
    "    for i in range(0, len(binary_message), 8):\n",
    "        byte = binary_message[i:i+8]\n",
    "        extracted_data += chr(int(byte, 2))\n",
    "    \n",
    "    return extracted_data"
   ]
  },
  {
   "cell_type": "code",
   "execution_count": 11,
   "metadata": {},
   "outputs": [
    {
     "ename": "FileNotFoundError",
     "evalue": "[Errno 2] No such file or directory: './output/SP_1.png'",
     "output_type": "error",
     "traceback": [
      "\u001b[1;31m---------------------------------------------------------------------------\u001b[0m",
      "\u001b[1;31mFileNotFoundError\u001b[0m                         Traceback (most recent call last)",
      "Cell \u001b[1;32mIn[11], line 2\u001b[0m\n\u001b[0;32m      1\u001b[0m hide_data(input_path, \u001b[39m\"\u001b[39m\u001b[39mexample input line\u001b[39m\u001b[39m\"\u001b[39m)\n\u001b[1;32m----> 2\u001b[0m extract_data(output_path)\n",
      "Cell \u001b[1;32mIn[10], line 2\u001b[0m, in \u001b[0;36mextract_data\u001b[1;34m(image_path)\u001b[0m\n\u001b[0;32m      1\u001b[0m \u001b[39mdef\u001b[39;00m \u001b[39mextract_data\u001b[39m(image_path):\n\u001b[1;32m----> 2\u001b[0m     image \u001b[39m=\u001b[39m Image\u001b[39m.\u001b[39;49mopen(image_path)\n\u001b[0;32m      3\u001b[0m     pixel_data \u001b[39m=\u001b[39m \u001b[39mlist\u001b[39m(image\u001b[39m.\u001b[39mgetdata())\n\u001b[0;32m      5\u001b[0m     binary_message \u001b[39m=\u001b[39m \u001b[39m'\u001b[39m\u001b[39m'\u001b[39m\n",
      "File \u001b[1;32mc:\\Users\\Jared\\AppData\\Local\\Programs\\Python\\Python310\\lib\\site-packages\\PIL\\Image.py:3227\u001b[0m, in \u001b[0;36mopen\u001b[1;34m(fp, mode, formats)\u001b[0m\n\u001b[0;32m   3224\u001b[0m     filename \u001b[39m=\u001b[39m fp\n\u001b[0;32m   3226\u001b[0m \u001b[39mif\u001b[39;00m filename:\n\u001b[1;32m-> 3227\u001b[0m     fp \u001b[39m=\u001b[39m builtins\u001b[39m.\u001b[39;49mopen(filename, \u001b[39m\"\u001b[39;49m\u001b[39mrb\u001b[39;49m\u001b[39m\"\u001b[39;49m)\n\u001b[0;32m   3228\u001b[0m     exclusive_fp \u001b[39m=\u001b[39m \u001b[39mTrue\u001b[39;00m\n\u001b[0;32m   3230\u001b[0m \u001b[39mtry\u001b[39;00m:\n",
      "\u001b[1;31mFileNotFoundError\u001b[0m: [Errno 2] No such file or directory: './output/SP_1.png'"
     ]
    }
   ],
   "source": [
    "hide_data(input_path, \"example input line\")\n",
    "extract_data(output_path)"
   ]
  }
 ],
 "metadata": {
  "kernelspec": {
   "display_name": "Python 3",
   "language": "python",
   "name": "python3"
  },
  "language_info": {
   "codemirror_mode": {
    "name": "ipython",
    "version": 3
   },
   "file_extension": ".py",
   "mimetype": "text/x-python",
   "name": "python",
   "nbconvert_exporter": "python",
   "pygments_lexer": "ipython3",
   "version": "3.10.6"
  },
  "orig_nbformat": 4
 },
 "nbformat": 4,
 "nbformat_minor": 2
}
